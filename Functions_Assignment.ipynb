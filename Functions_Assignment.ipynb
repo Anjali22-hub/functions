{
  "nbformat": 4,
  "nbformat_minor": 0,
  "metadata": {
    "colab": {
      "provenance": []
    },
    "kernelspec": {
      "name": "python3",
      "display_name": "Python 3"
    },
    "language_info": {
      "name": "python"
    }
  },
  "cells": [
    {
      "cell_type": "markdown",
      "source": [
        "***ASSIGNMENT***\n",
        "--\n",
        "\n",
        "\n",
        "---\n",
        "\n"
      ],
      "metadata": {
        "id": "9i2wKBa8QvR6"
      }
    },
    {
      "cell_type": "markdown",
      "source": [
        "1.  What is the difference between a function and a method in Python?\n",
        "- Function :-  \n",
        " - A function is a standalone block of code that performs a specific task.\n",
        " - It is defined using `def` keyword.\n",
        " - Functions are not associated with objects or classes unless called within them."
      ],
      "metadata": {
        "id": "i1rdVQIWQ9cZ"
      }
    },
    {
      "cell_type": "code",
      "execution_count": 2,
      "metadata": {
        "colab": {
          "base_uri": "https://localhost:8080/"
        },
        "id": "DElxIJuNQqef",
        "outputId": "fd25140b-2552-4449-fb5d-c64e152e37ce"
      },
      "outputs": [
        {
          "output_type": "stream",
          "name": "stdout",
          "text": [
            "Hello, Anjali!\n"
          ]
        }
      ],
      "source": [
        "#Example :-\n",
        "\n",
        "def greet(name):\n",
        "  print(\"Hello, \" + name + \"!\")\n",
        "\n",
        "greet(\"Anjali\")"
      ]
    },
    {
      "cell_type": "markdown",
      "source": [
        "- Method :-  \n",
        " - A method is a function that is associated with an object or class.\n",
        " - It is defined inside a class.\n",
        " - Syntax used : object.method().\n",
        " - It takes `self` as its first parameter."
      ],
      "metadata": {
        "id": "WTjNPH7vY76f"
      }
    },
    {
      "cell_type": "code",
      "source": [
        "#Example :-\n",
        "\n",
        "class Greeter:\n",
        "  def greet(self, name):\n",
        "    print(\"Hello, \" + name + \"!\")\n",
        "\n",
        "greeter = Greeter()\n",
        "greeter.greet(\"Anjali\")"
      ],
      "metadata": {
        "colab": {
          "base_uri": "https://localhost:8080/"
        },
        "id": "h4jc63ekYt6w",
        "outputId": "5aa630a0-1204-4ac0-d943-b72fc4f9dd2d"
      },
      "execution_count": 5,
      "outputs": [
        {
          "output_type": "stream",
          "name": "stdout",
          "text": [
            "Hello, Anjali!\n"
          ]
        }
      ]
    },
    {
      "cell_type": "markdown",
      "source": [
        "2. Explain the concept of function arguments and parameters in Python.\n",
        "- Function arguments :-  \n",
        " - Arguments are the actual values passed to the function when it is called.\n",
        " - These values are assigned to the function's parameters.\n",
        " - Types of arguments : Positional arguments, Keyword arguments, Default arguments and Variable-length arguments."
      ],
      "metadata": {
        "id": "FkFfalgHaQHV"
      }
    },
    {
      "cell_type": "code",
      "source": [
        "#Example :-\n",
        "\n",
        "greet(\"Anjali\") #\"Anjali\" is an argument."
      ],
      "metadata": {
        "colab": {
          "base_uri": "https://localhost:8080/"
        },
        "id": "6ZtmPVKmZ-2U",
        "outputId": "98fd1045-e8ac-4cdd-dcf3-ec53af5c259a"
      },
      "execution_count": 15,
      "outputs": [
        {
          "output_type": "stream",
          "name": "stdout",
          "text": [
            "Hello, Anjali!\n"
          ]
        }
      ]
    },
    {
      "cell_type": "markdown",
      "source": [
        "- Parameters :-  \n",
        " - Parameters are the variables listed inside the parentheses in the function definition.\n",
        " - They act as placeholders for the arguments that will be passed to the function when it is called."
      ],
      "metadata": {
        "id": "cbj_Uxg5bxnw"
      }
    },
    {
      "cell_type": "code",
      "source": [
        "#Example :-\n",
        "\n",
        "def greet(name): #'name' is a parameter.\n",
        "  print(\"Hello, \" + name + \"!\")\n",
        "\n",
        "greet(\"Anjali\")"
      ],
      "metadata": {
        "colab": {
          "base_uri": "https://localhost:8080/"
        },
        "id": "lR-9w3I4bOJc",
        "outputId": "fc55e934-94a2-4dc5-e153-f353d518b8ea"
      },
      "execution_count": 13,
      "outputs": [
        {
          "output_type": "stream",
          "name": "stdout",
          "text": [
            "Hello, Anjali!\n"
          ]
        }
      ]
    },
    {
      "cell_type": "markdown",
      "source": [
        "3. What are the different ways to define and call a function in Python?\n",
        "- The different ways to define and call a function in Python are :-  \n",
        " -> Standard Function definition using `def` :"
      ],
      "metadata": {
        "id": "4eelkPNxd2dz"
      }
    },
    {
      "cell_type": "code",
      "source": [
        "#Example :-\n",
        "\n",
        "def greet(name):\n",
        "  print(f\"Hello, {name}!\")\n",
        "\n",
        "greet(\"Anjali\")"
      ],
      "metadata": {
        "colab": {
          "base_uri": "https://localhost:8080/"
        },
        "id": "9xKchTH4cteF",
        "outputId": "ec681994-d519-4011-cbe3-54d7e770d870"
      },
      "execution_count": 21,
      "outputs": [
        {
          "output_type": "stream",
          "name": "stdout",
          "text": [
            "Hello, Anjali!\n"
          ]
        }
      ]
    },
    {
      "cell_type": "markdown",
      "source": [
        " -> Function with Return value :    "
      ],
      "metadata": {
        "id": "zhnkFka9fZgE"
      }
    },
    {
      "cell_type": "code",
      "source": [
        "#Example :-\n",
        "\n",
        "def add_numbers(a, b):\n",
        "    return a + b\n",
        "\n",
        "result = add_numbers(6, 4)\n",
        "print(result)"
      ],
      "metadata": {
        "colab": {
          "base_uri": "https://localhost:8080/"
        },
        "id": "gEN_s7pRe4J-",
        "outputId": "d67cb1da-a4ba-4f6c-a25b-879abc67be47"
      },
      "execution_count": 23,
      "outputs": [
        {
          "output_type": "stream",
          "name": "stdout",
          "text": [
            "10\n"
          ]
        }
      ]
    },
    {
      "cell_type": "markdown",
      "source": [
        " -> Function with Default Arguments :    "
      ],
      "metadata": {
        "id": "7Po_JSenhkO0"
      }
    },
    {
      "cell_type": "code",
      "source": [
        "#Example :-\n",
        "\n",
        "def greet(name=\"Guest\"):\n",
        "    print(f\"Hello, {name}!\")\n",
        "\n",
        "greet()\n",
        "greet(\"John\")"
      ],
      "metadata": {
        "colab": {
          "base_uri": "https://localhost:8080/"
        },
        "id": "dIf-0HTKhgxx",
        "outputId": "3d84ae7e-8328-4a2a-8fd5-c958dd2cd2d5"
      },
      "execution_count": 25,
      "outputs": [
        {
          "output_type": "stream",
          "name": "stdout",
          "text": [
            "Hello, Guest!\n",
            "Hello, John!\n"
          ]
        }
      ]
    },
    {
      "cell_type": "markdown",
      "source": [
        " -> Function with Variable number of Arguments :     "
      ],
      "metadata": {
        "id": "8dcPFlQHiFNq"
      }
    },
    {
      "cell_type": "code",
      "source": [
        "##Positional Arguments (*args) :-\n",
        "def sum_all(*args):\n",
        "  return sum(args)\n",
        "\n",
        "sum_all(1,2,3,4,5)"
      ],
      "metadata": {
        "colab": {
          "base_uri": "https://localhost:8080/"
        },
        "id": "wDAO9FF6h30C",
        "outputId": "70390135-b9f7-4bf8-8fef-ea23f6f04288"
      },
      "execution_count": 26,
      "outputs": [
        {
          "output_type": "execute_result",
          "data": {
            "text/plain": [
              "15"
            ]
          },
          "metadata": {},
          "execution_count": 26
        }
      ]
    },
    {
      "cell_type": "code",
      "source": [
        "##Keyword Arguments (**kwargs) :-\n",
        "def print_kwargs(**kwargs):\n",
        "  for key, value in kwargs.items():\n",
        "    print(f\"{key}: {value}\")\n",
        "\n",
        "print_kwargs(name=\"Anjali\", age=23)"
      ],
      "metadata": {
        "colab": {
          "base_uri": "https://localhost:8080/"
        },
        "id": "o472iGWviwe_",
        "outputId": "87ce5769-158b-41d2-c1bd-5ab08ecc821e"
      },
      "execution_count": 28,
      "outputs": [
        {
          "output_type": "stream",
          "name": "stdout",
          "text": [
            "name: Anjali\n",
            "age: 23\n"
          ]
        }
      ]
    },
    {
      "cell_type": "markdown",
      "source": [
        " -> Anonymous Function (Lambda Function)"
      ],
      "metadata": {
        "id": "0AqI2OoRjKvi"
      }
    },
    {
      "cell_type": "code",
      "source": [
        "#Example :-\n",
        "\n",
        "square = lambda x: x ** 2\n",
        "print(square(8))"
      ],
      "metadata": {
        "colab": {
          "base_uri": "https://localhost:8080/"
        },
        "id": "efBeqkDijCFZ",
        "outputId": "c0449549-9d3f-4c95-d532-503d82fb2885"
      },
      "execution_count": 31,
      "outputs": [
        {
          "output_type": "stream",
          "name": "stdout",
          "text": [
            "64\n"
          ]
        }
      ]
    },
    {
      "cell_type": "markdown",
      "source": [
        "- Ways to call Functions are :-   "
      ],
      "metadata": {
        "id": "K1otwpkXje0b"
      }
    },
    {
      "cell_type": "code",
      "source": [
        "#Simple Call\n",
        "greet(\"Anjali\")"
      ],
      "metadata": {
        "colab": {
          "base_uri": "https://localhost:8080/"
        },
        "id": "gl-KY1uijYLa",
        "outputId": "989edb80-f998-4d4e-b0ae-1f6d1b4cf5da"
      },
      "execution_count": 32,
      "outputs": [
        {
          "output_type": "stream",
          "name": "stdout",
          "text": [
            "Hello, Anjali!\n"
          ]
        }
      ]
    },
    {
      "cell_type": "code",
      "source": [
        "#Call with Default Argument\n",
        "greet()"
      ],
      "metadata": {
        "colab": {
          "base_uri": "https://localhost:8080/"
        },
        "id": "qdgSQj3cj4-i",
        "outputId": "82bcfc73-a971-48d8-e620-c2dbcd3a464b"
      },
      "execution_count": 33,
      "outputs": [
        {
          "output_type": "stream",
          "name": "stdout",
          "text": [
            "Hello, Guest!\n"
          ]
        }
      ]
    },
    {
      "cell_type": "code",
      "source": [
        "#Call with *args\n",
        "sum_all(5,6,7,8,9)"
      ],
      "metadata": {
        "colab": {
          "base_uri": "https://localhost:8080/"
        },
        "id": "tb8sEa6LkBzd",
        "outputId": "7b7bbaa8-5129-4a15-ce0c-9c888c21b974"
      },
      "execution_count": 34,
      "outputs": [
        {
          "output_type": "execute_result",
          "data": {
            "text/plain": [
              "35"
            ]
          },
          "metadata": {},
          "execution_count": 34
        }
      ]
    },
    {
      "cell_type": "code",
      "source": [
        "#Call with **kwargs\n",
        "print_kwargs(name=\"Anjali\", age=23)"
      ],
      "metadata": {
        "colab": {
          "base_uri": "https://localhost:8080/"
        },
        "id": "D32jDI4AkNjG",
        "outputId": "cdc3f3bd-4f79-46be-9be7-82061285edab"
      },
      "execution_count": 35,
      "outputs": [
        {
          "output_type": "stream",
          "name": "stdout",
          "text": [
            "name: Anjali\n",
            "age: 23\n"
          ]
        }
      ]
    },
    {
      "cell_type": "code",
      "source": [
        "#Calling Lambda functions\n",
        "square(14)"
      ],
      "metadata": {
        "colab": {
          "base_uri": "https://localhost:8080/"
        },
        "id": "tveW7TTckVgD",
        "outputId": "1aca59dd-0a5b-4012-e188-1a07f66f8877"
      },
      "execution_count": 37,
      "outputs": [
        {
          "output_type": "execute_result",
          "data": {
            "text/plain": [
              "196"
            ]
          },
          "metadata": {},
          "execution_count": 37
        }
      ]
    },
    {
      "cell_type": "markdown",
      "source": [
        "4. What is the purpose of the `return` statement in a Python function?\n",
        "- The purposes of 'return' statement are :-  \n",
        " -> When a function is called, the `return` statement specifies what value should be sent back to wherever the function was called from."
      ],
      "metadata": {
        "id": "yNDGQpVNklqd"
      }
    },
    {
      "cell_type": "code",
      "source": [
        "#Example :-\n",
        "def add_numbers(a, b):\n",
        "    return a + b\n",
        "\n",
        "result = add_numbers(29, 13)\n",
        "print(result)"
      ],
      "metadata": {
        "colab": {
          "base_uri": "https://localhost:8080/"
        },
        "id": "KhymM0kdkfVe",
        "outputId": "cf60715c-7674-4d38-b1f8-003f836b14aa"
      },
      "execution_count": 38,
      "outputs": [
        {
          "output_type": "stream",
          "name": "stdout",
          "text": [
            "42\n"
          ]
        }
      ]
    },
    {
      "cell_type": "markdown",
      "source": [
        " -> Once `return` is executed, the function stops running immediately, even if more code follows it."
      ],
      "metadata": {
        "id": "afkETKVhlvk8"
      }
    },
    {
      "cell_type": "code",
      "source": [
        "#Example :-\n",
        "def example():\n",
        "  print(\"Before return\")\n",
        "  return \"Done\"\n",
        "  print(\"After return\") #This line will not run."
      ],
      "metadata": {
        "id": "VrBS5Vmwlsf_"
      },
      "execution_count": 40,
      "outputs": []
    },
    {
      "cell_type": "markdown",
      "source": [
        " -> Python allows you to return multiple values (as a tuple)."
      ],
      "metadata": {
        "id": "pU5mVej1mZC0"
      }
    },
    {
      "cell_type": "code",
      "source": [
        "#Example :-\n",
        "def get_values():\n",
        "  return 3, 4, 5\n",
        "\n",
        "a, b, c = get_values()\n",
        "print(a, b, c)"
      ],
      "metadata": {
        "colab": {
          "base_uri": "https://localhost:8080/"
        },
        "id": "mmHQE-obmNlo",
        "outputId": "f562f012-3638-4c95-db73-548f498f2217"
      },
      "execution_count": 41,
      "outputs": [
        {
          "output_type": "stream",
          "name": "stdout",
          "text": [
            "3 4 5\n"
          ]
        }
      ]
    },
    {
      "cell_type": "markdown",
      "source": [
        "5. What are iterators in Python and how do they differ from iterables?\n",
        "- They are closely related but are not the same.\n",
        " - Iterables : Iterable is any Python object capable of returning its members one at a time, allowing it to be looped over (eg. in a `for` loop).\n",
        " - Examples are :-\n",
        " -- Lists : [1,2,3]\n",
        " -- Tuples : (4,5,6)\n",
        " -- Strings : \"Hello\"\n",
        " -- Dictionaries : {'a': 5, 'b': 6}\n",
        " -- Sets : {7,8,9}\n",
        " - Iterators : Iterator is an object that represents a stream of data ; it returns the next item in sequence when you call `next()` on it. It maintains its internal state (remembers where it is in the sequence).\n"
      ],
      "metadata": {
        "id": "UwYdz1MAm_QO"
      }
    },
    {
      "cell_type": "code",
      "source": [
        "#Example of iterables :-\n",
        "my_list = [1, 2, 3]\n",
        "for item in my_list:\n",
        "  print(item)"
      ],
      "metadata": {
        "colab": {
          "base_uri": "https://localhost:8080/"
        },
        "id": "uzhOYPxRm8Wj",
        "outputId": "3dbc4d80-8cb5-4023-9ba9-2cc94eaaddaa"
      },
      "execution_count": 42,
      "outputs": [
        {
          "output_type": "stream",
          "name": "stdout",
          "text": [
            "1\n",
            "2\n",
            "3\n"
          ]
        }
      ]
    },
    {
      "cell_type": "code",
      "source": [
        "#Example of iterators :-\n",
        "my_iterator = iter(my_list)\n",
        "print(next(my_iterator))\n",
        "print(next(my_iterator))\n",
        "print(next(my_iterator))"
      ],
      "metadata": {
        "colab": {
          "base_uri": "https://localhost:8080/"
        },
        "id": "Nb5zYNeDpvYU",
        "outputId": "425a3fac-0fbb-4ad5-be54-27bcc17fbc05"
      },
      "execution_count": 43,
      "outputs": [
        {
          "output_type": "stream",
          "name": "stdout",
          "text": [
            "1\n",
            "2\n",
            "3\n"
          ]
        }
      ]
    },
    {
      "cell_type": "markdown",
      "source": [
        "6. Explain the concept of generators in Python and how they are defined.\n",
        "- Generators in Python are a simple and powerful tool for creating iterators.\n",
        "- Unlike regular functions that return a single value using `return`, generators yield a sequence of values one at a time, using the 'yield' statement.\n",
        "- Key features are :-   \n",
        " - They generate values on the fly and only when requested, saving memory.\n",
        " - Generators pause at each `yield` and resume from that point on the next call.\n",
        " - They are efficient for large data.\n",
        "- Generator is defined like a normal function but uses `yield` keyword in place of `return`."
      ],
      "metadata": {
        "id": "TDiV7cV5rAfE"
      }
    },
    {
      "cell_type": "code",
      "source": [
        "#Example :-\n",
        "def count_up_to(n):\n",
        "  i = 2\n",
        "  while i <= n:\n",
        "    yield i\n",
        "    i += 2\n",
        "\n",
        "counter = count_up_to(10)\n",
        "for num in counter:\n",
        "  print(num)"
      ],
      "metadata": {
        "colab": {
          "base_uri": "https://localhost:8080/"
        },
        "id": "F_0fHbItq5Jo",
        "outputId": "d89864c2-fc1d-49c2-bc03-ba6a2d658e44"
      },
      "execution_count": 45,
      "outputs": [
        {
          "output_type": "stream",
          "name": "stdout",
          "text": [
            "2\n",
            "4\n",
            "6\n",
            "8\n",
            "10\n"
          ]
        }
      ]
    },
    {
      "cell_type": "markdown",
      "source": [
        "7. What are the advantages of using generators over regular functions?\n",
        "- The advantages are :-  \n",
        " - Memory Efficiency : Generators yield one at a time, instead of returning entire result at once. This is useful for processing large datasets without loading everything into memory. (See example)\n",
        " - Lazy Evaluation : Generator values are computed on the fly and only when requested, saving memory. This leads to faster execution and efficient pipelining of data.\n",
        " - Faster Performance for Large Data : Since generators do not build full output in memory, they can be significantly faster when working with huge datasets.\n",
        " - Cleaner Syntax for Iterators : Generators are an elegant alternative to create classes with `__iter__()` and `__next__()` methods. It simplifies iterator creation.\n",
        "-Use cases of Generators are :- Reading large files line by line, streaming data processing, generating infinite sequences, efficient pipelining of data."
      ],
      "metadata": {
        "id": "ZnQdA9zYtUJm"
      }
    },
    {
      "cell_type": "code",
      "source": [
        "#Example for Memory Efficiency:-\n",
        "def count_up_to(n):\n",
        "  for i in range(n):\n",
        "    yield i\n",
        "    print(f\"After yield {i}\")\n",
        "\n",
        "counter = count_up_to(5)\n",
        "for num in counter:\n",
        "  print(num)"
      ],
      "metadata": {
        "colab": {
          "base_uri": "https://localhost:8080/"
        },
        "id": "EXSGNZkmtI6m",
        "outputId": "6fe32fef-8a79-4fd6-924f-ce8d79f50f7d"
      },
      "execution_count": 48,
      "outputs": [
        {
          "output_type": "stream",
          "name": "stdout",
          "text": [
            "0\n",
            "After yield 0\n",
            "1\n",
            "After yield 1\n",
            "2\n",
            "After yield 2\n",
            "3\n",
            "After yield 3\n",
            "4\n",
            "After yield 4\n"
          ]
        }
      ]
    },
    {
      "cell_type": "markdown",
      "source": [
        "8.  What is a lambda function in Python and when is it typically used?\n",
        "- A lambda function in Python is an anonymous function defined using `lambda` keyword.\n",
        "- It is used for creating small, simple functions without a name, typically for short-term use.\n",
        "- Use cases are :-"
      ],
      "metadata": {
        "id": "tz_pnGvPxxHy"
      }
    },
    {
      "cell_type": "code",
      "source": [
        "#map() : to apply a function to every item in iterable.\n",
        "num = [3,4,5]\n",
        "squares = list(map(lambda x: x**2, num))\n",
        "print(squares)"
      ],
      "metadata": {
        "colab": {
          "base_uri": "https://localhost:8080/"
        },
        "id": "LhdNBfOvxbvl",
        "outputId": "3b39293d-b9e0-43ee-e914-3fee02cef2f8"
      },
      "execution_count": 49,
      "outputs": [
        {
          "output_type": "stream",
          "name": "stdout",
          "text": [
            "[9, 16, 25]\n"
          ]
        }
      ]
    },
    {
      "cell_type": "code",
      "source": [
        "#filter() : to filter items based on a condition.\n",
        "num = [3,4,5,6]\n",
        "even = list(filter(lambda x: x%2==0, num))\n",
        "print(even)"
      ],
      "metadata": {
        "colab": {
          "base_uri": "https://localhost:8080/"
        },
        "id": "kVly7dh8y6-F",
        "outputId": "5a7fee00-fae7-423f-8980-6d850cab5a3e"
      },
      "execution_count": 50,
      "outputs": [
        {
          "output_type": "stream",
          "name": "stdout",
          "text": [
            "[4, 6]\n"
          ]
        }
      ]
    },
    {
      "cell_type": "code",
      "source": [
        "#sorted() : for custom sorting.\n",
        "data = [(1, 'mango')], (3, 'strawberry'), (2, 'cherry')\n",
        "sorted_data = sorted(data, key=lambda x: x[0])\n",
        "print(sorted_data)"
      ],
      "metadata": {
        "colab": {
          "base_uri": "https://localhost:8080/",
          "height": 193
        },
        "id": "uUX9OuhNzX0T",
        "outputId": "58851e7d-7476-4cc9-cc83-7004f2671d10"
      },
      "execution_count": 54,
      "outputs": [
        {
          "output_type": "error",
          "ename": "TypeError",
          "evalue": "'<' not supported between instances of 'int' and 'tuple'",
          "traceback": [
            "\u001b[0;31m---------------------------------------------------------------------------\u001b[0m",
            "\u001b[0;31mTypeError\u001b[0m                                 Traceback (most recent call last)",
            "\u001b[0;32m/tmp/ipython-input-54-3401364030.py\u001b[0m in \u001b[0;36m<cell line: 0>\u001b[0;34m()\u001b[0m\n\u001b[1;32m      1\u001b[0m \u001b[0;31m#sorted() : for custom sorting.\u001b[0m\u001b[0;34m\u001b[0m\u001b[0;34m\u001b[0m\u001b[0m\n\u001b[1;32m      2\u001b[0m \u001b[0mdata\u001b[0m \u001b[0;34m=\u001b[0m \u001b[0;34m[\u001b[0m\u001b[0;34m(\u001b[0m\u001b[0;36m1\u001b[0m\u001b[0;34m,\u001b[0m \u001b[0;34m'mango'\u001b[0m\u001b[0;34m)\u001b[0m\u001b[0;34m]\u001b[0m\u001b[0;34m,\u001b[0m \u001b[0;34m(\u001b[0m\u001b[0;36m3\u001b[0m\u001b[0;34m,\u001b[0m \u001b[0;34m'strawberry'\u001b[0m\u001b[0;34m)\u001b[0m\u001b[0;34m,\u001b[0m \u001b[0;34m(\u001b[0m\u001b[0;36m2\u001b[0m\u001b[0;34m,\u001b[0m \u001b[0;34m'cherry'\u001b[0m\u001b[0;34m)\u001b[0m\u001b[0;34m\u001b[0m\u001b[0;34m\u001b[0m\u001b[0m\n\u001b[0;32m----> 3\u001b[0;31m \u001b[0msorted_data\u001b[0m \u001b[0;34m=\u001b[0m \u001b[0msorted\u001b[0m\u001b[0;34m(\u001b[0m\u001b[0mdata\u001b[0m\u001b[0;34m,\u001b[0m \u001b[0mkey\u001b[0m\u001b[0;34m=\u001b[0m\u001b[0;32mlambda\u001b[0m \u001b[0mx\u001b[0m\u001b[0;34m:\u001b[0m \u001b[0mx\u001b[0m\u001b[0;34m[\u001b[0m\u001b[0;36m0\u001b[0m\u001b[0;34m]\u001b[0m\u001b[0;34m)\u001b[0m\u001b[0;34m\u001b[0m\u001b[0;34m\u001b[0m\u001b[0m\n\u001b[0m\u001b[1;32m      4\u001b[0m \u001b[0mprint\u001b[0m\u001b[0;34m(\u001b[0m\u001b[0msorted_data\u001b[0m\u001b[0;34m)\u001b[0m\u001b[0;34m\u001b[0m\u001b[0;34m\u001b[0m\u001b[0m\n",
            "\u001b[0;31mTypeError\u001b[0m: '<' not supported between instances of 'int' and 'tuple'"
          ]
        }
      ]
    },
    {
      "cell_type": "markdown",
      "source": [
        "9. Explain the purpose and usage of the `map()` function in Python.\n",
        "- The `map()` function is to perform transformation or processing on all elements of a collection without writing a loop.\n",
        "- It improves code readability and supports functional programming.\n",
        "- Examples of usage are :-  "
      ],
      "metadata": {
        "id": "q6-nh8s70k_-"
      }
    },
    {
      "cell_type": "code",
      "source": [
        "#Using map with built-in functions.\n",
        "num = [5,6,7,8]\n",
        "squared = map(pow, num, [2]*4)\n",
        "print(list(squared))"
      ],
      "metadata": {
        "colab": {
          "base_uri": "https://localhost:8080/"
        },
        "id": "E-Q83DjUz6_H",
        "outputId": "b969a8d0-4a5d-472d-9faa-ba9d21b3acb8"
      },
      "execution_count": 55,
      "outputs": [
        {
          "output_type": "stream",
          "name": "stdout",
          "text": [
            "[25, 36, 49, 64]\n"
          ]
        }
      ]
    },
    {
      "cell_type": "code",
      "source": [
        "#Using map with lambda.\n",
        "num = [5,6,7,8]\n",
        "squared = map(lambda x: x**2, num)\n",
        "print(list(squared))"
      ],
      "metadata": {
        "colab": {
          "base_uri": "https://localhost:8080/"
        },
        "id": "6DCyDwiK2Sq3",
        "outputId": "6db4b7c2-1dee-4853-b66f-bc5bd112d996"
      },
      "execution_count": 56,
      "outputs": [
        {
          "output_type": "stream",
          "name": "stdout",
          "text": [
            "[25, 36, 49, 64]\n"
          ]
        }
      ]
    },
    {
      "cell_type": "code",
      "source": [
        "#Using map with multiple iterables.\n",
        "a = [4,5,6]\n",
        "b = [7,8,9]\n",
        "sum_ab = map(lambda x,y: x+y, a,b)\n",
        "print(list(sum_ab))"
      ],
      "metadata": {
        "colab": {
          "base_uri": "https://localhost:8080/"
        },
        "id": "HZIq5tWw2crJ",
        "outputId": "4817f54a-a666-4125-b247-79efd31a5af4"
      },
      "execution_count": 57,
      "outputs": [
        {
          "output_type": "stream",
          "name": "stdout",
          "text": [
            "[11, 13, 15]\n"
          ]
        }
      ]
    },
    {
      "cell_type": "markdown",
      "source": [
        "10.  What is the difference between `map()`, `reduce()`, and `filter()` functions in Python?\n",
        "- These are higher-order functions in Python that process sequences like lists or tuples as arguments.\n",
        " - `map()` :- It applies a function to each item in iterable and returns a new iterable. It is used for transformation of items. (see example)\n",
        " - `reduce()` :- It applies a function to reduce the iterable to a single value. Used for aggregating values (sum, product, etc.). It is part of the `functools` module. (see example)\n",
        " - `filter()` :- It filters elements from an iterable for which the function returns `True`. Used for selecting items that meet a condition. (see example)"
      ],
      "metadata": {
        "id": "kioiurPv20e8"
      }
    },
    {
      "cell_type": "code",
      "source": [
        "#Example for map()\n",
        "num = [1,2,3,4,5]\n",
        "result = map(lambda x: x * 3, num)\n",
        "print(list(result))"
      ],
      "metadata": {
        "colab": {
          "base_uri": "https://localhost:8080/"
        },
        "id": "hfARzxYH2vh2",
        "outputId": "1b6e363b-3ad6-4243-ed6e-b6973d4e0465"
      },
      "execution_count": 59,
      "outputs": [
        {
          "output_type": "stream",
          "name": "stdout",
          "text": [
            "[3, 6, 9, 12, 15]\n"
          ]
        }
      ]
    },
    {
      "cell_type": "code",
      "source": [
        "#Example for reduce()\n",
        "from functools import reduce\n",
        "num = [1,2,3,4,5]\n",
        "result = reduce(lambda x,y: x * y, num)\n",
        "print(result)"
      ],
      "metadata": {
        "colab": {
          "base_uri": "https://localhost:8080/"
        },
        "id": "1gzmbB_55U1i",
        "outputId": "97b54f26-1445-4baf-a895-be88a3d7c5b6"
      },
      "execution_count": 61,
      "outputs": [
        {
          "output_type": "stream",
          "name": "stdout",
          "text": [
            "120\n"
          ]
        }
      ]
    },
    {
      "cell_type": "code",
      "source": [
        "#Example for filter()\n",
        "num = [1,2,3,4,5]\n",
        "result = filter(lambda x: x % 3 == 0, num)\n",
        "print(list(result))"
      ],
      "metadata": {
        "colab": {
          "base_uri": "https://localhost:8080/"
        },
        "id": "yup0xXa25rxl",
        "outputId": "ac965f3e-cfd3-42d8-cca9-92a6c93de59d"
      },
      "execution_count": 63,
      "outputs": [
        {
          "output_type": "stream",
          "name": "stdout",
          "text": [
            "[3]\n"
          ]
        }
      ]
    },
    {
      "cell_type": "markdown",
      "source": [
        "11.  Using pen & Paper write the internal mechanism for sum operation using  reduce function on this given\n",
        "list:[47,11,42,13];"
      ],
      "metadata": {
        "id": "IhplOQ-k6dcd"
      }
    },
    {
      "cell_type": "markdown",
      "source": [
        "**Practical Questions**\n",
        "--"
      ],
      "metadata": {
        "id": "KZcZgj3z8NR8"
      }
    },
    {
      "cell_type": "markdown",
      "source": [
        "1.  Write a Python function that takes a list of numbers as input and returns the sum of all even numbers in\n",
        "the list."
      ],
      "metadata": {
        "id": "89tPbZDu8n-v"
      }
    },
    {
      "cell_type": "code",
      "source": [
        "my_list = [2,3,4,5,6]\n",
        "result = sum_of_even_numbers(my_list)\n",
        "print(\"Sum of even numbers:\", result)"
      ],
      "metadata": {
        "colab": {
          "base_uri": "https://localhost:8080/"
        },
        "id": "APE0-wSs6ASR",
        "outputId": "9c7b3dd0-536f-4bd0-8f80-66bc4e57f8c7"
      },
      "execution_count": 65,
      "outputs": [
        {
          "output_type": "stream",
          "name": "stdout",
          "text": [
            "Sum of even numbers: 12\n"
          ]
        }
      ]
    },
    {
      "cell_type": "markdown",
      "source": [
        "2. Create a Python function that accepts a string and returns the reverse of that string."
      ],
      "metadata": {
        "id": "ICpCLr5K92LW"
      }
    },
    {
      "cell_type": "code",
      "source": [
        "def reverse_string(s):\n",
        "  return s[::-1]\n",
        "\n",
        "my_string = \"Hello, World!\"\n",
        "reversed_string = reverse_string(my_string)\n",
        "print(\"Reversed string:\", reversed_string)"
      ],
      "metadata": {
        "colab": {
          "base_uri": "https://localhost:8080/"
        },
        "id": "Xb75Hi2l9O7a",
        "outputId": "e302163c-5219-4af7-eb86-94866ecda234"
      },
      "execution_count": 66,
      "outputs": [
        {
          "output_type": "stream",
          "name": "stdout",
          "text": [
            "Reversed string: !dlroW ,olleH\n"
          ]
        }
      ]
    },
    {
      "cell_type": "markdown",
      "source": [
        "3.  Implement a Python function that takes a list of integers and returns a new list containing the squares of\n",
        "each number."
      ],
      "metadata": {
        "id": "7z6VpdKz-kkt"
      }
    },
    {
      "cell_type": "code",
      "source": [
        "def square_list(numbers):\n",
        "  return [x**2 for x in numbers]\n",
        "\n",
        "my_list = [5,6,7,8,9]\n",
        "squared_list = square_list(my_list)\n",
        "print(\"Squared list:\", squared_list)"
      ],
      "metadata": {
        "colab": {
          "base_uri": "https://localhost:8080/"
        },
        "id": "XEFEZDo9-djl",
        "outputId": "45ad6b62-4baa-47f3-f5be-f9062e646f8e"
      },
      "execution_count": 67,
      "outputs": [
        {
          "output_type": "stream",
          "name": "stdout",
          "text": [
            "Squared list: [25, 36, 49, 64, 81]\n"
          ]
        }
      ]
    },
    {
      "cell_type": "markdown",
      "source": [
        "4.  Write a Python function that checks if a given number is prime or not from 1 to 200."
      ],
      "metadata": {
        "id": "SMxeFLsX_TfZ"
      }
    },
    {
      "cell_type": "code",
      "source": [
        "def is_prime(n):\n",
        "  if n <= 1:\n",
        "    return False\n",
        "  for i in range(2, int(n**0.5) + 1):\n",
        "    if n % i == 0:\n",
        "      return False\n",
        "  return True\n",
        "\n",
        "for num in range(1, 201):\n",
        "  if is_prime(num):\n",
        "    print(num, \"is a prime number.\")\n",
        "  else:\n",
        "    print(num, \"is not a prime number.\")"
      ],
      "metadata": {
        "colab": {
          "base_uri": "https://localhost:8080/"
        },
        "id": "-teHBR-R_R7u",
        "outputId": "830ae5ae-1504-42b5-c715-060c7f2ec49e"
      },
      "execution_count": 73,
      "outputs": [
        {
          "output_type": "stream",
          "name": "stdout",
          "text": [
            "1 is not a prime number.\n",
            "2 is a prime number.\n",
            "3 is a prime number.\n",
            "4 is not a prime number.\n",
            "5 is a prime number.\n",
            "6 is not a prime number.\n",
            "7 is a prime number.\n",
            "8 is not a prime number.\n",
            "9 is not a prime number.\n",
            "10 is not a prime number.\n",
            "11 is a prime number.\n",
            "12 is not a prime number.\n",
            "13 is a prime number.\n",
            "14 is not a prime number.\n",
            "15 is not a prime number.\n",
            "16 is not a prime number.\n",
            "17 is a prime number.\n",
            "18 is not a prime number.\n",
            "19 is a prime number.\n",
            "20 is not a prime number.\n",
            "21 is not a prime number.\n",
            "22 is not a prime number.\n",
            "23 is a prime number.\n",
            "24 is not a prime number.\n",
            "25 is not a prime number.\n",
            "26 is not a prime number.\n",
            "27 is not a prime number.\n",
            "28 is not a prime number.\n",
            "29 is a prime number.\n",
            "30 is not a prime number.\n",
            "31 is a prime number.\n",
            "32 is not a prime number.\n",
            "33 is not a prime number.\n",
            "34 is not a prime number.\n",
            "35 is not a prime number.\n",
            "36 is not a prime number.\n",
            "37 is a prime number.\n",
            "38 is not a prime number.\n",
            "39 is not a prime number.\n",
            "40 is not a prime number.\n",
            "41 is a prime number.\n",
            "42 is not a prime number.\n",
            "43 is a prime number.\n",
            "44 is not a prime number.\n",
            "45 is not a prime number.\n",
            "46 is not a prime number.\n",
            "47 is a prime number.\n",
            "48 is not a prime number.\n",
            "49 is not a prime number.\n",
            "50 is not a prime number.\n",
            "51 is not a prime number.\n",
            "52 is not a prime number.\n",
            "53 is a prime number.\n",
            "54 is not a prime number.\n",
            "55 is not a prime number.\n",
            "56 is not a prime number.\n",
            "57 is not a prime number.\n",
            "58 is not a prime number.\n",
            "59 is a prime number.\n",
            "60 is not a prime number.\n",
            "61 is a prime number.\n",
            "62 is not a prime number.\n",
            "63 is not a prime number.\n",
            "64 is not a prime number.\n",
            "65 is not a prime number.\n",
            "66 is not a prime number.\n",
            "67 is a prime number.\n",
            "68 is not a prime number.\n",
            "69 is not a prime number.\n",
            "70 is not a prime number.\n",
            "71 is a prime number.\n",
            "72 is not a prime number.\n",
            "73 is a prime number.\n",
            "74 is not a prime number.\n",
            "75 is not a prime number.\n",
            "76 is not a prime number.\n",
            "77 is not a prime number.\n",
            "78 is not a prime number.\n",
            "79 is a prime number.\n",
            "80 is not a prime number.\n",
            "81 is not a prime number.\n",
            "82 is not a prime number.\n",
            "83 is a prime number.\n",
            "84 is not a prime number.\n",
            "85 is not a prime number.\n",
            "86 is not a prime number.\n",
            "87 is not a prime number.\n",
            "88 is not a prime number.\n",
            "89 is a prime number.\n",
            "90 is not a prime number.\n",
            "91 is not a prime number.\n",
            "92 is not a prime number.\n",
            "93 is not a prime number.\n",
            "94 is not a prime number.\n",
            "95 is not a prime number.\n",
            "96 is not a prime number.\n",
            "97 is a prime number.\n",
            "98 is not a prime number.\n",
            "99 is not a prime number.\n",
            "100 is not a prime number.\n",
            "101 is a prime number.\n",
            "102 is not a prime number.\n",
            "103 is a prime number.\n",
            "104 is not a prime number.\n",
            "105 is not a prime number.\n",
            "106 is not a prime number.\n",
            "107 is a prime number.\n",
            "108 is not a prime number.\n",
            "109 is a prime number.\n",
            "110 is not a prime number.\n",
            "111 is not a prime number.\n",
            "112 is not a prime number.\n",
            "113 is a prime number.\n",
            "114 is not a prime number.\n",
            "115 is not a prime number.\n",
            "116 is not a prime number.\n",
            "117 is not a prime number.\n",
            "118 is not a prime number.\n",
            "119 is not a prime number.\n",
            "120 is not a prime number.\n",
            "121 is not a prime number.\n",
            "122 is not a prime number.\n",
            "123 is not a prime number.\n",
            "124 is not a prime number.\n",
            "125 is not a prime number.\n",
            "126 is not a prime number.\n",
            "127 is a prime number.\n",
            "128 is not a prime number.\n",
            "129 is not a prime number.\n",
            "130 is not a prime number.\n",
            "131 is a prime number.\n",
            "132 is not a prime number.\n",
            "133 is not a prime number.\n",
            "134 is not a prime number.\n",
            "135 is not a prime number.\n",
            "136 is not a prime number.\n",
            "137 is a prime number.\n",
            "138 is not a prime number.\n",
            "139 is a prime number.\n",
            "140 is not a prime number.\n",
            "141 is not a prime number.\n",
            "142 is not a prime number.\n",
            "143 is not a prime number.\n",
            "144 is not a prime number.\n",
            "145 is not a prime number.\n",
            "146 is not a prime number.\n",
            "147 is not a prime number.\n",
            "148 is not a prime number.\n",
            "149 is a prime number.\n",
            "150 is not a prime number.\n",
            "151 is a prime number.\n",
            "152 is not a prime number.\n",
            "153 is not a prime number.\n",
            "154 is not a prime number.\n",
            "155 is not a prime number.\n",
            "156 is not a prime number.\n",
            "157 is a prime number.\n",
            "158 is not a prime number.\n",
            "159 is not a prime number.\n",
            "160 is not a prime number.\n",
            "161 is not a prime number.\n",
            "162 is not a prime number.\n",
            "163 is a prime number.\n",
            "164 is not a prime number.\n",
            "165 is not a prime number.\n",
            "166 is not a prime number.\n",
            "167 is a prime number.\n",
            "168 is not a prime number.\n",
            "169 is not a prime number.\n",
            "170 is not a prime number.\n",
            "171 is not a prime number.\n",
            "172 is not a prime number.\n",
            "173 is a prime number.\n",
            "174 is not a prime number.\n",
            "175 is not a prime number.\n",
            "176 is not a prime number.\n",
            "177 is not a prime number.\n",
            "178 is not a prime number.\n",
            "179 is a prime number.\n",
            "180 is not a prime number.\n",
            "181 is a prime number.\n",
            "182 is not a prime number.\n",
            "183 is not a prime number.\n",
            "184 is not a prime number.\n",
            "185 is not a prime number.\n",
            "186 is not a prime number.\n",
            "187 is not a prime number.\n",
            "188 is not a prime number.\n",
            "189 is not a prime number.\n",
            "190 is not a prime number.\n",
            "191 is a prime number.\n",
            "192 is not a prime number.\n",
            "193 is a prime number.\n",
            "194 is not a prime number.\n",
            "195 is not a prime number.\n",
            "196 is not a prime number.\n",
            "197 is a prime number.\n",
            "198 is not a prime number.\n",
            "199 is a prime number.\n",
            "200 is not a prime number.\n"
          ]
        }
      ]
    },
    {
      "cell_type": "markdown",
      "source": [
        "5.  Create an iterator class in Python that generates the Fibonacci sequence up to a specified number of\n",
        "terms."
      ],
      "metadata": {
        "id": "y6zcTcmHBAsb"
      }
    },
    {
      "cell_type": "code",
      "source": [
        "class FibonacciIterator:\n",
        "  def __init__(self, num_terms):\n",
        "    self.num_terms = num_terms\n",
        "    self.count = 0\n",
        "    self.a, self.b = 0, 1\n",
        "\n",
        "  def __iter__(self):\n",
        "    return self\n",
        "\n",
        "  def __next__(self):\n",
        "    if self.count >= self.num_terms:\n",
        "      raise StopIteration\n",
        "    if self.count == 0:\n",
        "      self.count += 1\n",
        "      return 0\n",
        "    elif self.count == 1:\n",
        "      self.count += 1\n",
        "      return 1\n",
        "    else:\n",
        "      self.a, self.b = self.b, self.a + self.b\n",
        "      self.count += 1\n",
        "      return self.a\n",
        "\n",
        "num_terms = 10\n",
        "fib_iterator = FibonacciIterator(num_terms)\n",
        "for num in fib_iterator:\n",
        "  print(num)"
      ],
      "metadata": {
        "colab": {
          "base_uri": "https://localhost:8080/"
        },
        "id": "fBkGOURCAAci",
        "outputId": "13fbb6d5-315a-4e83-a0dc-9a3b82c871a2"
      },
      "execution_count": 75,
      "outputs": [
        {
          "output_type": "stream",
          "name": "stdout",
          "text": [
            "0\n",
            "1\n",
            "1\n",
            "1\n",
            "2\n",
            "3\n",
            "5\n",
            "8\n",
            "13\n",
            "21\n"
          ]
        }
      ]
    },
    {
      "cell_type": "markdown",
      "source": [
        "6. Write a generator function in Python that yields the powers of 2 up to a given exponent."
      ],
      "metadata": {
        "id": "YdTvohmfDHPZ"
      }
    },
    {
      "cell_type": "code",
      "source": [
        "def powers_of_2(exponent):\n",
        "  for i in range(exponent + 1):\n",
        "    yield 2 ** i\n",
        "\n",
        "exponent = 5\n",
        "power_generator = powers_of_2(exponent)\n",
        "for power in power_generator:\n",
        "  print(power)"
      ],
      "metadata": {
        "colab": {
          "base_uri": "https://localhost:8080/"
        },
        "id": "wsgDils9C6cl",
        "outputId": "62488588-5d56-47b2-96a4-b4d0e1ec8536"
      },
      "execution_count": 76,
      "outputs": [
        {
          "output_type": "stream",
          "name": "stdout",
          "text": [
            "1\n",
            "2\n",
            "4\n",
            "8\n",
            "16\n",
            "32\n"
          ]
        }
      ]
    },
    {
      "cell_type": "markdown",
      "source": [
        "7. Implement a generator function that reads a file line by line and yields each line as a string."
      ],
      "metadata": {
        "id": "JkRiJnOEDm7O"
      }
    },
    {
      "cell_type": "code",
      "source": [
        "def read_file_lines(file_path):\n",
        "  with open(file_path, 'r') as file:\n",
        "    for line in file:\n",
        "      yield line.strip()\n",
        "\n",
        "file_path = 'example.txt'\n",
        "for line in read_file_lines(file_path):\n",
        "  print(line)"
      ],
      "metadata": {
        "colab": {
          "base_uri": "https://localhost:8080/",
          "height": 315
        },
        "id": "stDuO_BqDjoE",
        "outputId": "7e01fb82-0498-403f-943d-9699612873ff"
      },
      "execution_count": 78,
      "outputs": [
        {
          "output_type": "error",
          "ename": "FileNotFoundError",
          "evalue": "[Errno 2] No such file or directory: 'example.txt'",
          "traceback": [
            "\u001b[0;31m---------------------------------------------------------------------------\u001b[0m",
            "\u001b[0;31mFileNotFoundError\u001b[0m                         Traceback (most recent call last)",
            "\u001b[0;32m/tmp/ipython-input-78-3212627687.py\u001b[0m in \u001b[0;36m<cell line: 0>\u001b[0;34m()\u001b[0m\n\u001b[1;32m      5\u001b[0m \u001b[0;34m\u001b[0m\u001b[0m\n\u001b[1;32m      6\u001b[0m \u001b[0mfile_path\u001b[0m \u001b[0;34m=\u001b[0m \u001b[0;34m'example.txt'\u001b[0m\u001b[0;34m\u001b[0m\u001b[0;34m\u001b[0m\u001b[0m\n\u001b[0;32m----> 7\u001b[0;31m \u001b[0;32mfor\u001b[0m \u001b[0mline\u001b[0m \u001b[0;32min\u001b[0m \u001b[0mread_file_lines\u001b[0m\u001b[0;34m(\u001b[0m\u001b[0mfile_path\u001b[0m\u001b[0;34m)\u001b[0m\u001b[0;34m:\u001b[0m\u001b[0;34m\u001b[0m\u001b[0;34m\u001b[0m\u001b[0m\n\u001b[0m\u001b[1;32m      8\u001b[0m   \u001b[0mprint\u001b[0m\u001b[0;34m(\u001b[0m\u001b[0mline\u001b[0m\u001b[0;34m)\u001b[0m\u001b[0;34m\u001b[0m\u001b[0;34m\u001b[0m\u001b[0m\n",
            "\u001b[0;32m/tmp/ipython-input-78-3212627687.py\u001b[0m in \u001b[0;36mread_file_lines\u001b[0;34m(file_path)\u001b[0m\n\u001b[1;32m      1\u001b[0m \u001b[0;32mdef\u001b[0m \u001b[0mread_file_lines\u001b[0m\u001b[0;34m(\u001b[0m\u001b[0mfile_path\u001b[0m\u001b[0;34m)\u001b[0m\u001b[0;34m:\u001b[0m\u001b[0;34m\u001b[0m\u001b[0;34m\u001b[0m\u001b[0m\n\u001b[0;32m----> 2\u001b[0;31m   \u001b[0;32mwith\u001b[0m \u001b[0mopen\u001b[0m\u001b[0;34m(\u001b[0m\u001b[0mfile_path\u001b[0m\u001b[0;34m,\u001b[0m \u001b[0;34m'r'\u001b[0m\u001b[0;34m)\u001b[0m \u001b[0;32mas\u001b[0m \u001b[0mfile\u001b[0m\u001b[0;34m:\u001b[0m\u001b[0;34m\u001b[0m\u001b[0;34m\u001b[0m\u001b[0m\n\u001b[0m\u001b[1;32m      3\u001b[0m     \u001b[0;32mfor\u001b[0m \u001b[0mline\u001b[0m \u001b[0;32min\u001b[0m \u001b[0mfile\u001b[0m\u001b[0;34m:\u001b[0m\u001b[0;34m\u001b[0m\u001b[0;34m\u001b[0m\u001b[0m\n\u001b[1;32m      4\u001b[0m       \u001b[0;32myield\u001b[0m \u001b[0mline\u001b[0m\u001b[0;34m.\u001b[0m\u001b[0mstrip\u001b[0m\u001b[0;34m(\u001b[0m\u001b[0;34m)\u001b[0m\u001b[0;34m\u001b[0m\u001b[0;34m\u001b[0m\u001b[0m\n\u001b[1;32m      5\u001b[0m \u001b[0;34m\u001b[0m\u001b[0m\n",
            "\u001b[0;31mFileNotFoundError\u001b[0m: [Errno 2] No such file or directory: 'example.txt'"
          ]
        }
      ]
    },
    {
      "cell_type": "markdown",
      "source": [
        "8. Use a lambda function in Python to sort a list of tuples based on the second element of each tuple."
      ],
      "metadata": {
        "id": "r6yE1bFaEmIr"
      }
    },
    {
      "cell_type": "code",
      "source": [
        "data = [(1, 5), (3, 2), (2, 8), (5, 1)]\n",
        "sorted_data = sorted(data, key=lambda x: x[1])\n",
        "print(sorted_data)"
      ],
      "metadata": {
        "colab": {
          "base_uri": "https://localhost:8080/"
        },
        "id": "axvbVuQ_EEj_",
        "outputId": "b2a3b8e9-6938-4e11-cd35-b79b6ecadb38"
      },
      "execution_count": 79,
      "outputs": [
        {
          "output_type": "stream",
          "name": "stdout",
          "text": [
            "[(5, 1), (3, 2), (1, 5), (2, 8)]\n"
          ]
        }
      ]
    },
    {
      "cell_type": "markdown",
      "source": [
        "9. Write a Python program that uses `map()` to convert a list of temperatures from Celsius to Fahrenheit."
      ],
      "metadata": {
        "id": "Sp5r75dYFGXU"
      }
    },
    {
      "cell_type": "code",
      "source": [
        "def celsius_to_fahrenheit(celsius):\n",
        "  return (celsius * 9/5) + 32\n",
        "\n",
        "temperatures_celsius = [0, 10, 20, 30, 40]\n",
        "temperatures_fahrenheit = list(map(celsius_to_fahrenheit, temperatures_celsius))\n",
        "print(temperatures_fahrenheit)"
      ],
      "metadata": {
        "colab": {
          "base_uri": "https://localhost:8080/"
        },
        "id": "3ozQSX7NFABd",
        "outputId": "aa128536-050d-49af-f493-7b64d3f979c8"
      },
      "execution_count": 80,
      "outputs": [
        {
          "output_type": "stream",
          "name": "stdout",
          "text": [
            "[32.0, 50.0, 68.0, 86.0, 104.0]\n"
          ]
        }
      ]
    },
    {
      "cell_type": "markdown",
      "source": [
        "10. Create a Python program that uses `filter()` to remove all the vowels from a given string."
      ],
      "metadata": {
        "id": "A4__LTrsFssy"
      }
    },
    {
      "cell_type": "code",
      "source": [
        "def is_vowel(char):\n",
        "  return char.lower() in 'aeiou'\n",
        "\n",
        "string = \"Hello, World!\"\n",
        "vowels_removed = ''.join(filter(lambda x: not is_vowel(x), string))\n",
        "print(vowels_removed)"
      ],
      "metadata": {
        "colab": {
          "base_uri": "https://localhost:8080/"
        },
        "id": "_CQe2woLFpSy",
        "outputId": "67e72e4b-cc79-4cbb-e382-9948140b8814"
      },
      "execution_count": 81,
      "outputs": [
        {
          "output_type": "stream",
          "name": "stdout",
          "text": [
            "Hll, Wrld!\n"
          ]
        }
      ]
    },
    {
      "cell_type": "markdown",
      "source": [
        "11. Imagine an accounting routine used in a book shop. It works on a list with sublists, which look like this:\n",
        "\n",
        "Write a Python program, which returns a list with 2-tuples. Each tuple consists of the order number and the\n",
        "product of the price per item and the quantity. The product should be increased by 10,- € if the value of the\n",
        "order is smaller than 100,00 €.\n",
        "\n",
        "Write a Python program using lambda and map."
      ],
      "metadata": {
        "id": "BpzB97YxGZVj"
      }
    },
    {
      "cell_type": "code",
      "source": [
        "orders = [\n",
        "    [34587, \"Learning Python, Mark Lutz\", 4, 40.95],\n",
        "    [98762, \"Programming Python, Mark Lutz\", 5, 56.80],\n",
        "    [77226, \"Head First Python, Paul Barry\", 3, 32.95],\n",
        "    [88112, \"Einfuhrung in Python3, Bernd Klein\", 3, 24.99]\n",
        "]\n",
        "\n",
        "invoice_totals = list(map(lambda order: (order[0], order[2] * order[3] + (order[2] * order[3] < 100) * 10), orders))\n",
        "print(invoice_totals)"
      ],
      "metadata": {
        "colab": {
          "base_uri": "https://localhost:8080/"
        },
        "id": "QaScA1W-GF7x",
        "outputId": "890e363a-f246-42da-aa0a-10d6e5bdc486"
      },
      "execution_count": 85,
      "outputs": [
        {
          "output_type": "stream",
          "name": "stdout",
          "text": [
            "[(34587, 163.8), (98762, 284.0), (77226, 108.85000000000001), (88112, 84.97)]\n"
          ]
        }
      ]
    }
  ]
}